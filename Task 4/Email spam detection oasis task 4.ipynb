{
 "cells": [
  {
   "cell_type": "code",
   "execution_count": 1,
   "id": "e72a7558",
   "metadata": {
    "execution": {
     "iopub.execute_input": "2023-03-08T09:01:24.192605Z",
     "iopub.status.busy": "2023-03-08T09:01:24.192010Z",
     "iopub.status.idle": "2023-03-08T09:01:24.204702Z",
     "shell.execute_reply": "2023-03-08T09:01:24.203768Z"
    },
    "papermill": {
     "duration": 0.02413,
     "end_time": "2023-03-08T09:01:24.207305",
     "exception": false,
     "start_time": "2023-03-08T09:01:24.183175",
     "status": "completed"
    },
    "tags": []
   },
   "outputs": [],
   "source": [
    "import pandas as pd\n",
    "import numpy as np\n",
    "import matplotlib.pyplot as plt\n",
    "import seaborn as sns"
   ]
  },
  {
   "cell_type": "code",
   "execution_count": 2,
   "id": "a9f90de0",
   "metadata": {
    "execution": {
     "iopub.execute_input": "2023-03-08T09:01:24.221318Z",
     "iopub.status.busy": "2023-03-08T09:01:24.220076Z",
     "iopub.status.idle": "2023-03-08T09:01:24.225193Z",
     "shell.execute_reply": "2023-03-08T09:01:24.224227Z"
    },
    "papermill": {
     "duration": 0.014173,
     "end_time": "2023-03-08T09:01:24.227459",
     "exception": false,
     "start_time": "2023-03-08T09:01:24.213286",
     "status": "completed"
    },
    "tags": []
   },
   "outputs": [],
   "source": [
    "import warnings\n",
    "warnings.filterwarnings(\"ignore\")"
   ]
  },
  {
   "cell_type": "code",
   "execution_count": 3,
   "id": "d9637493",
   "metadata": {
    "execution": {
     "iopub.execute_input": "2023-03-08T09:01:24.240079Z",
     "iopub.status.busy": "2023-03-08T09:01:24.239407Z",
     "iopub.status.idle": "2023-03-08T09:01:24.301545Z",
     "shell.execute_reply": "2023-03-08T09:01:24.300455Z"
    },
    "papermill": {
     "duration": 0.071249,
     "end_time": "2023-03-08T09:01:24.304100",
     "exception": false,
     "start_time": "2023-03-08T09:01:24.232851",
     "status": "completed"
    },
    "tags": []
   },
   "outputs": [
    {
     "data": {
      "text/html": [
       "<div>\n",
       "<style scoped>\n",
       "    .dataframe tbody tr th:only-of-type {\n",
       "        vertical-align: middle;\n",
       "    }\n",
       "\n",
       "    .dataframe tbody tr th {\n",
       "        vertical-align: top;\n",
       "    }\n",
       "\n",
       "    .dataframe thead th {\n",
       "        text-align: right;\n",
       "    }\n",
       "</style>\n",
       "<table border=\"1\" class=\"dataframe\">\n",
       "  <thead>\n",
       "    <tr style=\"text-align: right;\">\n",
       "      <th></th>\n",
       "      <th>v1</th>\n",
       "      <th>v2</th>\n",
       "      <th>Unnamed: 2</th>\n",
       "      <th>Unnamed: 3</th>\n",
       "      <th>Unnamed: 4</th>\n",
       "    </tr>\n",
       "  </thead>\n",
       "  <tbody>\n",
       "    <tr>\n",
       "      <th>0</th>\n",
       "      <td>ham</td>\n",
       "      <td>Go until jurong point, crazy.. Available only ...</td>\n",
       "      <td>NaN</td>\n",
       "      <td>NaN</td>\n",
       "      <td>NaN</td>\n",
       "    </tr>\n",
       "    <tr>\n",
       "      <th>1</th>\n",
       "      <td>ham</td>\n",
       "      <td>Ok lar... Joking wif u oni...</td>\n",
       "      <td>NaN</td>\n",
       "      <td>NaN</td>\n",
       "      <td>NaN</td>\n",
       "    </tr>\n",
       "    <tr>\n",
       "      <th>2</th>\n",
       "      <td>spam</td>\n",
       "      <td>Free entry in 2 a wkly comp to win FA Cup fina...</td>\n",
       "      <td>NaN</td>\n",
       "      <td>NaN</td>\n",
       "      <td>NaN</td>\n",
       "    </tr>\n",
       "    <tr>\n",
       "      <th>3</th>\n",
       "      <td>ham</td>\n",
       "      <td>U dun say so early hor... U c already then say...</td>\n",
       "      <td>NaN</td>\n",
       "      <td>NaN</td>\n",
       "      <td>NaN</td>\n",
       "    </tr>\n",
       "    <tr>\n",
       "      <th>4</th>\n",
       "      <td>ham</td>\n",
       "      <td>Nah I don't think he goes to usf, he lives aro...</td>\n",
       "      <td>NaN</td>\n",
       "      <td>NaN</td>\n",
       "      <td>NaN</td>\n",
       "    </tr>\n",
       "  </tbody>\n",
       "</table>\n",
       "</div>"
      ],
      "text/plain": [
       "     v1                                                 v2 Unnamed: 2  \\\n",
       "0   ham  Go until jurong point, crazy.. Available only ...        NaN   \n",
       "1   ham                      Ok lar... Joking wif u oni...        NaN   \n",
       "2  spam  Free entry in 2 a wkly comp to win FA Cup fina...        NaN   \n",
       "3   ham  U dun say so early hor... U c already then say...        NaN   \n",
       "4   ham  Nah I don't think he goes to usf, he lives aro...        NaN   \n",
       "\n",
       "  Unnamed: 3 Unnamed: 4  \n",
       "0        NaN        NaN  \n",
       "1        NaN        NaN  \n",
       "2        NaN        NaN  \n",
       "3        NaN        NaN  \n",
       "4        NaN        NaN  "
      ]
     },
     "execution_count": 3,
     "metadata": {},
     "output_type": "execute_result"
    }
   ],
   "source": [
    "df = pd.read_csv(\"spam.csv\",encoding = \"ISO-8859-1\")\n",
    "df.head()"
   ]
  },
  {
   "cell_type": "code",
   "execution_count": 4,
   "id": "ab4ec2ff",
   "metadata": {
    "execution": {
     "iopub.execute_input": "2023-03-08T09:01:24.317413Z",
     "iopub.status.busy": "2023-03-08T09:01:24.316621Z",
     "iopub.status.idle": "2023-03-08T09:01:24.326653Z",
     "shell.execute_reply": "2023-03-08T09:01:24.325627Z"
    },
    "papermill": {
     "duration": 0.019298,
     "end_time": "2023-03-08T09:01:24.329162",
     "exception": false,
     "start_time": "2023-03-08T09:01:24.309864",
     "status": "completed"
    },
    "tags": []
   },
   "outputs": [
    {
     "data": {
      "text/plain": [
       "v1               0\n",
       "v2               0\n",
       "Unnamed: 2    5522\n",
       "Unnamed: 3    5560\n",
       "Unnamed: 4    5566\n",
       "dtype: int64"
      ]
     },
     "execution_count": 4,
     "metadata": {},
     "output_type": "execute_result"
    }
   ],
   "source": [
    "df.isnull().sum()"
   ]
  },
  {
   "cell_type": "code",
   "execution_count": 5,
   "id": "7d9ac5c6",
   "metadata": {
    "execution": {
     "iopub.execute_input": "2023-03-08T09:01:24.342024Z",
     "iopub.status.busy": "2023-03-08T09:01:24.341679Z",
     "iopub.status.idle": "2023-03-08T09:01:24.348915Z",
     "shell.execute_reply": "2023-03-08T09:01:24.347817Z"
    },
    "papermill": {
     "duration": 0.016388,
     "end_time": "2023-03-08T09:01:24.351223",
     "exception": false,
     "start_time": "2023-03-08T09:01:24.334835",
     "status": "completed"
    },
    "tags": []
   },
   "outputs": [],
   "source": [
    "df1 = df.drop([\"Unnamed: 2\",\"Unnamed: 3\",\"Unnamed: 4\"], axis=1)"
   ]
  },
  {
   "cell_type": "code",
   "execution_count": 6,
   "id": "14910165",
   "metadata": {
    "execution": {
     "iopub.execute_input": "2023-03-08T09:01:24.364335Z",
     "iopub.status.busy": "2023-03-08T09:01:24.363988Z",
     "iopub.status.idle": "2023-03-08T09:01:24.372415Z",
     "shell.execute_reply": "2023-03-08T09:01:24.371681Z"
    },
    "papermill": {
     "duration": 0.01749,
     "end_time": "2023-03-08T09:01:24.374457",
     "exception": false,
     "start_time": "2023-03-08T09:01:24.356967",
     "status": "completed"
    },
    "tags": []
   },
   "outputs": [
    {
     "data": {
      "text/html": [
       "<div>\n",
       "<style scoped>\n",
       "    .dataframe tbody tr th:only-of-type {\n",
       "        vertical-align: middle;\n",
       "    }\n",
       "\n",
       "    .dataframe tbody tr th {\n",
       "        vertical-align: top;\n",
       "    }\n",
       "\n",
       "    .dataframe thead th {\n",
       "        text-align: right;\n",
       "    }\n",
       "</style>\n",
       "<table border=\"1\" class=\"dataframe\">\n",
       "  <thead>\n",
       "    <tr style=\"text-align: right;\">\n",
       "      <th></th>\n",
       "      <th>v1</th>\n",
       "      <th>v2</th>\n",
       "    </tr>\n",
       "  </thead>\n",
       "  <tbody>\n",
       "    <tr>\n",
       "      <th>0</th>\n",
       "      <td>ham</td>\n",
       "      <td>Go until jurong point, crazy.. Available only ...</td>\n",
       "    </tr>\n",
       "    <tr>\n",
       "      <th>1</th>\n",
       "      <td>ham</td>\n",
       "      <td>Ok lar... Joking wif u oni...</td>\n",
       "    </tr>\n",
       "    <tr>\n",
       "      <th>2</th>\n",
       "      <td>spam</td>\n",
       "      <td>Free entry in 2 a wkly comp to win FA Cup fina...</td>\n",
       "    </tr>\n",
       "    <tr>\n",
       "      <th>3</th>\n",
       "      <td>ham</td>\n",
       "      <td>U dun say so early hor... U c already then say...</td>\n",
       "    </tr>\n",
       "    <tr>\n",
       "      <th>4</th>\n",
       "      <td>ham</td>\n",
       "      <td>Nah I don't think he goes to usf, he lives aro...</td>\n",
       "    </tr>\n",
       "  </tbody>\n",
       "</table>\n",
       "</div>"
      ],
      "text/plain": [
       "     v1                                                 v2\n",
       "0   ham  Go until jurong point, crazy.. Available only ...\n",
       "1   ham                      Ok lar... Joking wif u oni...\n",
       "2  spam  Free entry in 2 a wkly comp to win FA Cup fina...\n",
       "3   ham  U dun say so early hor... U c already then say...\n",
       "4   ham  Nah I don't think he goes to usf, he lives aro..."
      ]
     },
     "execution_count": 6,
     "metadata": {},
     "output_type": "execute_result"
    }
   ],
   "source": [
    "df1.head()"
   ]
  },
  {
   "cell_type": "code",
   "execution_count": 7,
   "id": "8b24c01c",
   "metadata": {
    "execution": {
     "iopub.execute_input": "2023-03-08T09:01:24.388180Z",
     "iopub.status.busy": "2023-03-08T09:01:24.387607Z",
     "iopub.status.idle": "2023-03-08T09:01:24.398053Z",
     "shell.execute_reply": "2023-03-08T09:01:24.396893Z"
    },
    "papermill": {
     "duration": 0.020143,
     "end_time": "2023-03-08T09:01:24.400433",
     "exception": false,
     "start_time": "2023-03-08T09:01:24.380290",
     "status": "completed"
    },
    "tags": []
   },
   "outputs": [
    {
     "data": {
      "text/html": [
       "<div>\n",
       "<style scoped>\n",
       "    .dataframe tbody tr th:only-of-type {\n",
       "        vertical-align: middle;\n",
       "    }\n",
       "\n",
       "    .dataframe tbody tr th {\n",
       "        vertical-align: top;\n",
       "    }\n",
       "\n",
       "    .dataframe thead th {\n",
       "        text-align: right;\n",
       "    }\n",
       "</style>\n",
       "<table border=\"1\" class=\"dataframe\">\n",
       "  <thead>\n",
       "    <tr style=\"text-align: right;\">\n",
       "      <th></th>\n",
       "      <th>Spam or Ham</th>\n",
       "      <th>Mail Message</th>\n",
       "    </tr>\n",
       "  </thead>\n",
       "  <tbody>\n",
       "    <tr>\n",
       "      <th>0</th>\n",
       "      <td>ham</td>\n",
       "      <td>Go until jurong point, crazy.. Available only ...</td>\n",
       "    </tr>\n",
       "    <tr>\n",
       "      <th>1</th>\n",
       "      <td>ham</td>\n",
       "      <td>Ok lar... Joking wif u oni...</td>\n",
       "    </tr>\n",
       "    <tr>\n",
       "      <th>2</th>\n",
       "      <td>spam</td>\n",
       "      <td>Free entry in 2 a wkly comp to win FA Cup fina...</td>\n",
       "    </tr>\n",
       "    <tr>\n",
       "      <th>3</th>\n",
       "      <td>ham</td>\n",
       "      <td>U dun say so early hor... U c already then say...</td>\n",
       "    </tr>\n",
       "    <tr>\n",
       "      <th>4</th>\n",
       "      <td>ham</td>\n",
       "      <td>Nah I don't think he goes to usf, he lives aro...</td>\n",
       "    </tr>\n",
       "  </tbody>\n",
       "</table>\n",
       "</div>"
      ],
      "text/plain": [
       "  Spam or Ham                                       Mail Message\n",
       "0         ham  Go until jurong point, crazy.. Available only ...\n",
       "1         ham                      Ok lar... Joking wif u oni...\n",
       "2        spam  Free entry in 2 a wkly comp to win FA Cup fina...\n",
       "3         ham  U dun say so early hor... U c already then say...\n",
       "4         ham  Nah I don't think he goes to usf, he lives aro..."
      ]
     },
     "execution_count": 7,
     "metadata": {},
     "output_type": "execute_result"
    }
   ],
   "source": [
    "df1.rename(columns = {\"v1\" : \"Spam or Ham\", \"v2\":\"Mail Message\"},inplace = True)\n",
    "df1.head()"
   ]
  },
  {
   "cell_type": "code",
   "execution_count": 8,
   "id": "1128e4ea",
   "metadata": {
    "execution": {
     "iopub.execute_input": "2023-03-08T09:01:24.414238Z",
     "iopub.status.busy": "2023-03-08T09:01:24.413844Z",
     "iopub.status.idle": "2023-03-08T09:01:24.420896Z",
     "shell.execute_reply": "2023-03-08T09:01:24.419735Z"
    },
    "papermill": {
     "duration": 0.016525,
     "end_time": "2023-03-08T09:01:24.423156",
     "exception": false,
     "start_time": "2023-03-08T09:01:24.406631",
     "status": "completed"
    },
    "tags": []
   },
   "outputs": [
    {
     "data": {
      "text/plain": [
       "(5572, 2)"
      ]
     },
     "execution_count": 8,
     "metadata": {},
     "output_type": "execute_result"
    }
   ],
   "source": [
    "df1.shape"
   ]
  },
  {
   "cell_type": "code",
   "execution_count": 9,
   "id": "bd11497f",
   "metadata": {},
   "outputs": [
    {
     "data": {
      "text/plain": [
       "ham     4825\n",
       "spam     747\n",
       "Name: Spam or Ham, dtype: int64"
      ]
     },
     "execution_count": 9,
     "metadata": {},
     "output_type": "execute_result"
    }
   ],
   "source": [
    "df1['Spam or Ham'].value_counts()"
   ]
  },
  {
   "cell_type": "code",
   "execution_count": 10,
   "id": "fc94340e",
   "metadata": {
    "execution": {
     "iopub.execute_input": "2023-03-08T09:01:24.437126Z",
     "iopub.status.busy": "2023-03-08T09:01:24.436709Z",
     "iopub.status.idle": "2023-03-08T09:01:25.424662Z",
     "shell.execute_reply": "2023-03-08T09:01:25.423662Z"
    },
    "papermill": {
     "duration": 0.99815,
     "end_time": "2023-03-08T09:01:25.427467",
     "exception": false,
     "start_time": "2023-03-08T09:01:24.429317",
     "status": "completed"
    },
    "tags": []
   },
   "outputs": [],
   "source": [
    "from sklearn.preprocessing import LabelEncoder\n",
    "encoder = LabelEncoder()\n",
    "df1['Spam or Ham'] = encoder.fit_transform(df1['Spam or Ham'])"
   ]
  },
  {
   "cell_type": "code",
   "execution_count": 11,
   "id": "deb8bf8e",
   "metadata": {
    "execution": {
     "iopub.execute_input": "2023-03-08T09:01:25.442285Z",
     "iopub.status.busy": "2023-03-08T09:01:25.441490Z",
     "iopub.status.idle": "2023-03-08T09:01:25.455962Z",
     "shell.execute_reply": "2023-03-08T09:01:25.454954Z"
    },
    "papermill": {
     "duration": 0.024254,
     "end_time": "2023-03-08T09:01:25.458174",
     "exception": false,
     "start_time": "2023-03-08T09:01:25.433920",
     "status": "completed"
    },
    "tags": []
   },
   "outputs": [
    {
     "data": {
      "text/plain": [
       "403"
      ]
     },
     "execution_count": 11,
     "metadata": {},
     "output_type": "execute_result"
    }
   ],
   "source": [
    "df1.duplicated().sum()"
   ]
  },
  {
   "cell_type": "code",
   "execution_count": 12,
   "id": "2c79a9fa",
   "metadata": {
    "execution": {
     "iopub.execute_input": "2023-03-08T09:01:25.472024Z",
     "iopub.status.busy": "2023-03-08T09:01:25.471673Z",
     "iopub.status.idle": "2023-03-08T09:01:25.481039Z",
     "shell.execute_reply": "2023-03-08T09:01:25.480095Z"
    },
    "papermill": {
     "duration": 0.018716,
     "end_time": "2023-03-08T09:01:25.483315",
     "exception": false,
     "start_time": "2023-03-08T09:01:25.464599",
     "status": "completed"
    },
    "tags": []
   },
   "outputs": [],
   "source": [
    "df1 = df1.drop_duplicates(keep = 'first')"
   ]
  },
  {
   "cell_type": "code",
   "execution_count": 13,
   "id": "29da252f",
   "metadata": {
    "execution": {
     "iopub.execute_input": "2023-03-08T09:01:25.497305Z",
     "iopub.status.busy": "2023-03-08T09:01:25.496663Z",
     "iopub.status.idle": "2023-03-08T09:01:25.505911Z",
     "shell.execute_reply": "2023-03-08T09:01:25.505022Z"
    },
    "papermill": {
     "duration": 0.018441,
     "end_time": "2023-03-08T09:01:25.508029",
     "exception": false,
     "start_time": "2023-03-08T09:01:25.489588",
     "status": "completed"
    },
    "tags": []
   },
   "outputs": [
    {
     "data": {
      "text/plain": [
       "0"
      ]
     },
     "execution_count": 13,
     "metadata": {},
     "output_type": "execute_result"
    }
   ],
   "source": [
    "df1.duplicated().sum()"
   ]
  },
  {
   "cell_type": "code",
   "execution_count": 14,
   "id": "bee7ea30",
   "metadata": {},
   "outputs": [
    {
     "data": {
      "text/plain": [
       "([<matplotlib.patches.Wedge at 0x26b32acd910>,\n",
       "  <matplotlib.patches.Wedge at 0x26b32ae4070>],\n",
       " [Text(-1.0144997251399075, 0.4251944351600247, 'Ham'),\n",
       "  Text(1.1067270163085225, -0.4638483711007676, 'Spam')],\n",
       " [Text(-0.5533634864399495, 0.23192423736001344, '87%'),\n",
       "  Text(0.6455907595133047, -0.2705782164754477, '13%')])"
      ]
     },
     "execution_count": 14,
     "metadata": {},
     "output_type": "execute_result"
    },
    {
     "data": {
      "image/png": "[encoded data removed]",
      "text/plain": [
       "<Figure size 432x288 with 1 Axes>"
      ]
     },
     "metadata": {},
     "output_type": "display_data"
    }
   ],
   "source": [
    "labels=['Ham','Spam']\n",
    "explode=[0,0.1]\n",
    "colors=['pink','blue']\n",
    "plt.pie(df1['Spam or Ham'].value_counts(),labels=labels,explode=explode,colors=colors,autopct=\"%.0f%%\")"
   ]
  },
  {
   "cell_type": "code",
   "execution_count": 15,
   "id": "68bafb0d",
   "metadata": {
    "execution": {
     "iopub.execute_input": "2023-03-08T09:01:25.523539Z",
     "iopub.status.busy": "2023-03-08T09:01:25.523100Z",
     "iopub.status.idle": "2023-03-08T09:01:25.528203Z",
     "shell.execute_reply": "2023-03-08T09:01:25.527117Z"
    },
    "papermill": {
     "duration": 0.014895,
     "end_time": "2023-03-08T09:01:25.530369",
     "exception": false,
     "start_time": "2023-03-08T09:01:25.515474",
     "status": "completed"
    },
    "tags": []
   },
   "outputs": [],
   "source": [
    "X =  df1[\"Mail Message\"]\n",
    "y =df1[\"Spam or Ham\"]"
   ]
  },
  {
   "cell_type": "code",
   "execution_count": 16,
   "id": "3be34b3f",
   "metadata": {
    "execution": {
     "iopub.execute_input": "2023-03-08T09:01:25.544402Z",
     "iopub.status.busy": "2023-03-08T09:01:25.544018Z",
     "iopub.status.idle": "2023-03-08T09:01:25.605849Z",
     "shell.execute_reply": "2023-03-08T09:01:25.604792Z"
    },
    "papermill": {
     "duration": 0.071672,
     "end_time": "2023-03-08T09:01:25.608333",
     "exception": false,
     "start_time": "2023-03-08T09:01:25.536661",
     "status": "completed"
    },
    "tags": []
   },
   "outputs": [],
   "source": [
    "from sklearn.model_selection import train_test_split\n",
    "X_train, X_test, y_train,y_test = train_test_split(X,y,test_size = 0.20, random_state = 0)"
   ]
  },
  {
   "cell_type": "code",
   "execution_count": 17,
   "id": "07c8d6f9",
   "metadata": {
    "execution": {
     "iopub.execute_input": "2023-03-08T09:01:25.623623Z",
     "iopub.status.busy": "2023-03-08T09:01:25.622938Z",
     "iopub.status.idle": "2023-03-08T09:01:25.824491Z",
     "shell.execute_reply": "2023-03-08T09:01:25.823486Z"
    },
    "papermill": {
     "duration": 0.212104,
     "end_time": "2023-03-08T09:01:25.827221",
     "exception": false,
     "start_time": "2023-03-08T09:01:25.615117",
     "status": "completed"
    },
    "tags": []
   },
   "outputs": [
    {
     "data": {
      "text/plain": [
       "array([[0, 0, 0, ..., 0, 0, 0],\n",
       "       [0, 0, 0, ..., 0, 0, 0],\n",
       "       [0, 0, 0, ..., 0, 0, 0],\n",
       "       ...,\n",
       "       [0, 0, 0, ..., 0, 0, 0],\n",
       "       [0, 0, 0, ..., 0, 0, 0],\n",
       "       [0, 0, 0, ..., 0, 0, 0]], dtype=int64)"
      ]
     },
     "execution_count": 17,
     "metadata": {},
     "output_type": "execute_result"
    }
   ],
   "source": [
    "from sklearn.feature_extraction.text import CountVectorizer\n",
    "cv = CountVectorizer()\n",
    "X_train_count = cv.fit_transform(X_train.values)\n",
    "X_train_count.toarray()"
   ]
  },
  {
   "cell_type": "code",
   "execution_count": 18,
   "id": "4b3893e3",
   "metadata": {
    "execution": {
     "iopub.execute_input": "2023-03-08T09:01:25.842094Z",
     "iopub.status.busy": "2023-03-08T09:01:25.841410Z",
     "iopub.status.idle": "2023-03-08T09:01:25.862833Z",
     "shell.execute_reply": "2023-03-08T09:01:25.861705Z"
    },
    "papermill": {
     "duration": 0.031264,
     "end_time": "2023-03-08T09:01:25.865163",
     "exception": false,
     "start_time": "2023-03-08T09:01:25.833899",
     "status": "completed"
    },
    "tags": []
   },
   "outputs": [
    {
     "data": {
      "text/plain": [
       "MultinomialNB()"
      ]
     },
     "execution_count": 18,
     "metadata": {},
     "output_type": "execute_result"
    }
   ],
   "source": [
    "#Naive Bayes Classification\n",
    "from sklearn.naive_bayes import MultinomialNB\n",
    "model = MultinomialNB()\n",
    "model.fit(X_train_count,y_train)"
   ]
  },
  {
   "cell_type": "code",
   "execution_count": 19,
   "id": "41f4c527",
   "metadata": {
    "execution": {
     "iopub.execute_input": "2023-03-08T09:01:25.880291Z",
     "iopub.status.busy": "2023-03-08T09:01:25.879583Z",
     "iopub.status.idle": "2023-03-08T09:01:25.884906Z",
     "shell.execute_reply": "2023-03-08T09:01:25.883914Z"
    },
    "papermill": {
     "duration": 0.015336,
     "end_time": "2023-03-08T09:01:25.887177",
     "exception": false,
     "start_time": "2023-03-08T09:01:25.871841",
     "status": "completed"
    },
    "tags": []
   },
   "outputs": [],
   "source": [
    "from sklearn.metrics import confusion_matrix , recall_score , precision_score\n",
    "from sklearn.metrics import accuracy_score"
   ]
  },
  {
   "cell_type": "code",
   "execution_count": 20,
   "id": "774d7023",
   "metadata": {
    "execution": {
     "iopub.execute_input": "2023-03-08T09:01:25.902411Z",
     "iopub.status.busy": "2023-03-08T09:01:25.901475Z",
     "iopub.status.idle": "2023-03-08T09:01:25.908864Z",
     "shell.execute_reply": "2023-03-08T09:01:25.907877Z"
    },
    "papermill": {
     "duration": 0.016963,
     "end_time": "2023-03-08T09:01:25.911064",
     "exception": false,
     "start_time": "2023-03-08T09:01:25.894101",
     "status": "completed"
    },
    "tags": []
   },
   "outputs": [
    {
     "data": {
      "text/plain": [
       "array([0])"
      ]
     },
     "execution_count": 20,
     "metadata": {},
     "output_type": "execute_result"
    }
   ],
   "source": [
    "mail_ham = ['Same. Wana plan a trip sometme then']\n",
    "mail_ham_count = cv.transform(mail_ham)\n",
    "y_pred = model.predict(mail_ham_count)\n",
    "y_pred"
   ]
  },
  {
   "cell_type": "code",
   "execution_count": 21,
   "id": "7be78e1c",
   "metadata": {
    "execution": {
     "iopub.execute_input": "2023-03-08T09:01:25.926124Z",
     "iopub.status.busy": "2023-03-08T09:01:25.925051Z",
     "iopub.status.idle": "2023-03-08T09:01:25.934132Z",
     "shell.execute_reply": "2023-03-08T09:01:25.932972Z"
    },
    "papermill": {
     "duration": 0.018811,
     "end_time": "2023-03-08T09:01:25.936339",
     "exception": false,
     "start_time": "2023-03-08T09:01:25.917528",
     "status": "completed"
    },
    "tags": []
   },
   "outputs": [
    {
     "data": {
      "text/plain": [
       "0.9929866989117292"
      ]
     },
     "execution_count": 21,
     "metadata": {},
     "output_type": "execute_result"
    }
   ],
   "source": [
    "model.score(X_train_count,y_train)"
   ]
  },
  {
   "cell_type": "code",
   "execution_count": 22,
   "id": "d4261a10",
   "metadata": {
    "execution": {
     "iopub.execute_input": "2023-03-08T09:01:25.950988Z",
     "iopub.status.busy": "2023-03-08T09:01:25.950633Z",
     "iopub.status.idle": "2023-03-08T09:01:25.973772Z",
     "shell.execute_reply": "2023-03-08T09:01:25.973027Z"
    },
    "papermill": {
     "duration": 0.032462,
     "end_time": "2023-03-08T09:01:25.975657",
     "exception": false,
     "start_time": "2023-03-08T09:01:25.943195",
     "status": "completed"
    },
    "tags": []
   },
   "outputs": [
    {
     "data": {
      "text/plain": [
       "0.9816247582205029"
      ]
     },
     "execution_count": 22,
     "metadata": {},
     "output_type": "execute_result"
    }
   ],
   "source": [
    "X_test_count = cv.transform(X_test)\n",
    "model.score(X_test_count,y_test)"
   ]
  },
  {
   "cell_type": "code",
   "execution_count": 23,
   "id": "a23c92b0",
   "metadata": {},
   "outputs": [
    {
     "data": {
      "text/plain": [
       "DecisionTreeClassifier()"
      ]
     },
     "execution_count": 23,
     "metadata": {},
     "output_type": "execute_result"
    }
   ],
   "source": [
    "#Decision Tree Classification\n",
    "from sklearn.tree import DecisionTreeClassifier\n",
    "model2=DecisionTreeClassifier()\n",
    "model2.fit(X_train_count,y_train)"
   ]
  },
  {
   "cell_type": "code",
   "execution_count": 24,
   "id": "596f96ef",
   "metadata": {},
   "outputs": [
    {
     "data": {
      "text/plain": [
       "1.0"
      ]
     },
     "execution_count": 24,
     "metadata": {},
     "output_type": "execute_result"
    }
   ],
   "source": [
    "model2.score(X_train_count,y_train)"
   ]
  },
  {
   "cell_type": "code",
   "execution_count": 25,
   "id": "20b77730",
   "metadata": {},
   "outputs": [
    {
     "data": {
      "text/plain": [
       "0.9816247582205029"
      ]
     },
     "execution_count": 25,
     "metadata": {},
     "output_type": "execute_result"
    }
   ],
   "source": [
    "model.score(X_test_count,y_test)"
   ]
  }
 ],
 "metadata": {
  "kernelspec": {
   "display_name": "Python 3 (ipykernel)",
   "language": "python",
   "name": "python3"
  },
  "language_info": {
   "codemirror_mode": {
    "name": "ipython",
    "version": 3
   },
   "file_extension": ".py",
   "mimetype": "text/x-python",
   "name": "python",
   "nbconvert_exporter": "python",
   "pygments_lexer": "ipython3",
   "version": "3.9.12"
  },
  "papermill": {
   "default_parameters": {},
   "duration": 12.49582,
   "end_time": "2023-03-08T09:01:26.731640",
   "environment_variables": {},
   "exception": null,
   "input_path": "__notebook__.ipynb",
   "output_path": "__notebook__.ipynb",
   "parameters": {},
   "start_time": "2023-03-08T09:01:14.235820",
   "version": "2.4.0"
  }
 },
 "nbformat": 4,
 "nbformat_minor": 5
}
